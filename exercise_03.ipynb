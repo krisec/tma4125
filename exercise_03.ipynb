{
 "cells": [
  {
   "cell_type": "code",
   "execution_count": 1,
   "metadata": {},
   "outputs": [
    {
     "output_type": "execute_result",
     "data": {
      "text/plain": [
       "<IPython.core.display.HTML object>"
      ],
      "text/html": "<link href='http://fonts.googleapis.com/css?family=Alegreya+Sans:100,300,400,500,700,800,900,100italic,300italic,400italic,500italic,700italic,800italic,900italic' rel='stylesheet' type='text/css'> <link href='http://fonts.googleapis.com/css?family=Arvo:400,700,400italic' rel='stylesheet' type='text/css'> <link href=\"https://fonts.googleapis.com/css?family=News+Cycle\" rel=\"stylesheet\"> <link href='http://fonts.googleapis.com/css?family=Nixie+One' rel='stylesheet' type='text/css'> <link href='http://fonts.googleapis.com/css?family=PT+Mono' rel='stylesheet' type='text/css'> <link href='http://fonts.googleapis.com/css?family=Shadows+Into+Light' rel='stylesheet' type='text/css'> <link href=\"https://fonts.googleapis.com/css?family=Source+Code+Pro\" rel=\"stylesheet\"> <style> @font-face {\n    /*font-family: \"Computer Modern\";*/\n    /*src: url('http://mirrors.ctan.org/fonts/cm-unicode/fonts/otf/cmunss.otf');*/\n    font-family: 'News Cycle', sans-serif;\n}\n\n\n/* main background */\n\n\n/*#notebook_panel { \n        background: #C9D4E2;\n    }*/\n\ndiv.cell {\n    /*max-width:600px;*/\n    /*margin-left:16% !important;*/\n    /*margin-right:auto;*/\n}\n\ndiv.text_cell {\n    max-width: 120ex;\n    /* instead of 100%, */\n}\n\ndiv.text_cell_render {\n    font-family: 'Alegreya Sans', Computer Modern, \"Helvetica Neue\", Arial, Helvetica, Geneva,   sans-serif;\n    line-height: 135%;\n    /*font-size:    45pt;*/\n    font-size: 130%;\n    /*width:600px;*/\n    /*margin-left:auto;*/\n    /*margin-right:auto;*/\n}\n\n.CodeMirror {\n    /*font-family: 'Source Code Pro', monospace;*/\n    /*font-style: italic;*/\n    /*font-weight: bold;*/\n    /*font-size: 120%;*/\n}\n\n\n/*.prompt{\n        display: None;\n    }*/\n\n.text_cell_render h1 {\n    font-family: 'Nixie One', serifV;\n    font-style: regular;\n    font-weight: 400;\n    font-size: 45pt;\n    line-height: 100%;\n        color: #497BB9;    \n    /*color: #5889C5;*/\n    /*color: rgb(0, 51, 102);*/\n    /*font-weight: 200;*/\n    /*font-size: 50pt;*/\n    margin-bottom: 0.5em;\n    margin-top: 0.5em;\n    display: block;\n}\n\n.text_cell_render h2 {\n    font-family: 'Nixie One', serif;\n    font-weight: 400;\n    font-size: 30pt;\n    line-height: 100%;\n    /*color: rgb(0,51,102);*/\n    color: #497BB9;    \n    margin-bottom: 0.1em;\n    margin-top: 0.3em;\n    display: block;\n}\t\n\n.text_cell_render h3 {\n    font-family: 'Nixie One', serif;\n    margin-top:16px;\n    font-size: 22pt;\n    font-weight: 600;\n    margin-bottom: 3px;\n    font-style: regular;\n    color: rgb(102,102,0);\n}\n\n.text_cell_render h4 {    /*Use this for captions*/\n    font-family: 'Nixie One', serif;\n    font-size: 14pt;\n/*    text-align: center;*/\n    margin-top: 0em;\n    margin-bottom: 2em;\n    font-style: regular;\n}\n\n.text_cell_render h5 {  /*Use this for small titles*/\n    font-family: 'Nixie One', sans-serif;\n    font-weight: 400;\n    font-size: 16pt;\n    color: rgb(163,0,0);\n    /*color: #5889C5;*/\n    /*margin-bottom: .5em;\n    margin-top: 0.5em;*/\n    font-style: italic;\n    margin-bottom: .1em;\n    margin-top: 0.8em;\n    display: block;\n}\n\n.warning {\n    color: rgb( 240, 20, 20)\n}\n\n</style> \n<script>\n MathJax.Hub.Config( {\n    TeX: {\n        Macros: {\n            NN: \"{\\\\bf N}\",\n            RR: \"{\\\\mathbb{R}}\",\n            mcO: \"{\\\\mathcal{O}}\"\n        },\n        equationNumbers: { autoNumber: \"AMS\" },\n        extensions: [\"AMSmath.js\", \"begingroup.js\"] \n    },\n    tex2jax: {\n        inlineMath: [ ['$', '$'], [\"\\\\(\", \"\\\\)\"]], displayMath: [ ['$$', '$$'], [\"\\\\[\", \"\\\\]\"]]\n    },\n    displayAlign: 'center', // Change this to 'center' to center equations.\n    \"HTML-CSS\": {\n        styles: {\n            '.MathJax_Display': {\n                \"margin\": 4\n            }\n        }\n    }\n}\n);\n</script>"
     },
     "metadata": {},
     "execution_count": 1
    }
   ],
   "source": [
    "from IPython.core.display import HTML\n",
    "def css_styling():\n",
    "    try:\n",
    "        with open(\"tma4125.css\", \"r\") as f:\n",
    "            styles = f.read()\n",
    "            return HTML(styles)\n",
    "    except FileNotFoundError:\n",
    "        pass #Do nothing\n",
    "\n",
    "# Comment out next line and execute this cell to restore the default notebook style \n",
    "css_styling()"
   ]
  },
  {
   "cell_type": "markdown",
   "metadata": {},
   "source": [
    "# Exercises 3\n",
    "\n",
    "Submission deadline: **Feb 15 2021 at 12:00 (noon)**\n",
    "\n",
    "In this exercise set we will construct and analyze quadrature rules. For guidance on quadrature rules, please read the lecture notes. Make sure to run the code below to get all the important modules, and to make the plots look nice."
   ]
  },
  {
   "cell_type": "code",
   "execution_count": 4,
   "metadata": {},
   "outputs": [
    {
     "output_type": "stream",
     "name": "stdout",
     "text": [
      "Ran\n"
     ]
    }
   ],
   "source": [
    "%matplotlib inline\n",
    "\n",
    "import numpy as np\n",
    "from matplotlib.pyplot import *\n",
    "from math import factorial\n",
    "newparams = {'figure.figsize': (8.0, 4.0), 'axes.grid': True,\n",
    "             'lines.markersize': 8, 'lines.linewidth': 2,\n",
    "             'font.size': 14}\n",
    "rcParams.update(newparams)\n",
    "print(\"Ran\")"
   ]
  },
  {
   "cell_type": "markdown",
   "metadata": {},
   "source": [
    "## 1) Analyzing the composite Simpson's rule\n",
    "\n",
    "Simpson's rule is defined as\n",
    "$$\n",
    "S[f](x_{i-1}, x_i) = \\frac{h}{6}(f(x_{i-1} + 4f(x_{i-1/2}) + f(x_i))\n",
    "$$\n",
    "where $h = x_i - x_{i-1}$ and $x_{i-1/2} = \\frac{x_{i-1}+x_i}{2}.$\n"
   ]
  },
  {
   "cell_type": "markdown",
   "metadata": {},
   "source": [
    "**a)**\n",
    "\n",
    "Show that the resulting composite Simpson's rule is given by\n",
    "\n",
    "\\begin{align*}\n",
    "\\int_a^b f {\\,\\mathrm{d}x} \\approx \\mathrm{CSR}[f]({[x_{i-1}, x_i]}_{i=1}^{m})\n",
    "&= \n",
    "\\tfrac{h}{6}\n",
    "[\n",
    "f(x_0)\n",
    "+ 4f(x_{x_{1/2}}) + 2f(x_1) \n",
    "+ 4f(x_{3/2}) +     2f(x_2)\n",
    "+ \\ldots\n",
    "\\\\ \n",
    "&\\qquad+2 f(x_{m-1})\n",
    "+\n",
    "4f(x_{x_{m-1/2}}) \n",
    "+f(x_m)\n",
    "].\n",
    "\\end{align*}"
   ]
  },
  {
   "cell_type": "markdown",
   "metadata": {},
   "source": [
    "**b)**\n",
    "Implement the composite Simpson's rule.\n",
    "Use this function to compute an approximate value of integral\n",
    "\n",
    "$$\n",
    "I(0,1) = \\int_0^1 \\cos\\left(\\frac{\\pi}{2}x\\right) = \\frac{2}{\\pi} = 0.636619\\dotsc.\n",
    "$$\n",
    "\n",
    "for $m = 4, 8, 16, 32, 64$ corresponding to\n",
    "$ h = 2^{-2}, 2^{-3}, 2^{-4}, 2^{-5}, 2^{-6}$.\n",
    "Tabulate the corresponding quadrature errors $|I(0,1) - Q(0,1)|$. Plot the errors against $h$.\n",
    "What do you observe? How does it compare to the composite trapezoidal rule?"
   ]
  },
  {
   "cell_type": "code",
   "execution_count": 16,
   "metadata": {},
   "outputs": [
    {
     "output_type": "execute_result",
     "data": {
      "text/plain": [
       "[<matplotlib.lines.Line2D at 0x1681ebfd308>]"
      ]
     },
     "metadata": {},
     "execution_count": 16
    },
    {
     "output_type": "display_data",
     "data": {
      "text/plain": "<Figure size 576x288 with 1 Axes>",
      "image/svg+xml": "<?xml version=\"1.0\" encoding=\"utf-8\" standalone=\"no\"?>\r\n<!DOCTYPE svg PUBLIC \"-//W3C//DTD SVG 1.1//EN\"\r\n  \"http://www.w3.org/Graphics/SVG/1.1/DTD/svg11.dtd\">\r\n<!-- Created with matplotlib (https://matplotlib.org/) -->\r\n<svg height=\"252.389375pt\" version=\"1.1\" viewBox=\"0 0 534.601875 252.389375\" width=\"534.601875pt\" xmlns=\"http://www.w3.org/2000/svg\" xmlns:xlink=\"http://www.w3.org/1999/xlink\">\r\n <defs>\r\n  <style type=\"text/css\">\r\n*{stroke-linecap:butt;stroke-linejoin:round;}\r\n  </style>\r\n </defs>\r\n <g id=\"figure_1\">\r\n  <g id=\"patch_1\">\r\n   <path d=\"M 0 252.389375 \r\nL 534.601875 252.389375 \r\nL 534.601875 0 \r\nL 0 0 \r\nz\r\n\" style=\"fill:none;\"/>\r\n  </g>\r\n  <g id=\"axes_1\">\r\n   <g id=\"patch_2\">\r\n    <path d=\"M 81.001875 224.64 \r\nL 527.401875 224.64 \r\nL 527.401875 7.2 \r\nL 81.001875 7.2 \r\nz\r\n\" style=\"fill:#ffffff;\"/>\r\n   </g>\r\n   <g id=\"matplotlib.axis_1\">\r\n    <g id=\"xtick_1\">\r\n     <g id=\"line2d_1\">\r\n      <path clip-path=\"url(#p75001a3c8d)\" d=\"M 160.812784 224.64 \r\nL 160.812784 7.2 \r\n\" style=\"fill:none;stroke:#b0b0b0;stroke-linecap:square;stroke-width:0.8;\"/>\r\n     </g>\r\n     <g id=\"line2d_2\">\r\n      <defs>\r\n       <path d=\"M 0 0 \r\nL 0 3.5 \r\n\" id=\"m3d8b07c24e\" style=\"stroke:#000000;stroke-width:0.8;\"/>\r\n      </defs>\r\n      <g>\r\n       <use style=\"stroke:#000000;stroke-width:0.8;\" x=\"160.812784\" xlink:href=\"#m3d8b07c24e\" y=\"224.64\"/>\r\n      </g>\r\n     </g>\r\n     <g id=\"text_1\">\r\n      <!-- 0.05 -->\r\n      <defs>\r\n       <path d=\"M 31.78125 66.40625 \r\nQ 24.171875 66.40625 20.328125 58.90625 \r\nQ 16.5 51.421875 16.5 36.375 \r\nQ 16.5 21.390625 20.328125 13.890625 \r\nQ 24.171875 6.390625 31.78125 6.390625 \r\nQ 39.453125 6.390625 43.28125 13.890625 \r\nQ 47.125 21.390625 47.125 36.375 \r\nQ 47.125 51.421875 43.28125 58.90625 \r\nQ 39.453125 66.40625 31.78125 66.40625 \r\nz\r\nM 31.78125 74.21875 \r\nQ 44.046875 74.21875 50.515625 64.515625 \r\nQ 56.984375 54.828125 56.984375 36.375 \r\nQ 56.984375 17.96875 50.515625 8.265625 \r\nQ 44.046875 -1.421875 31.78125 -1.421875 \r\nQ 19.53125 -1.421875 13.0625 8.265625 \r\nQ 6.59375 17.96875 6.59375 36.375 \r\nQ 6.59375 54.828125 13.0625 64.515625 \r\nQ 19.53125 74.21875 31.78125 74.21875 \r\nz\r\n\" id=\"DejaVuSans-48\"/>\r\n       <path d=\"M 10.6875 12.40625 \r\nL 21 12.40625 \r\nL 21 0 \r\nL 10.6875 0 \r\nz\r\n\" id=\"DejaVuSans-46\"/>\r\n       <path d=\"M 10.796875 72.90625 \r\nL 49.515625 72.90625 \r\nL 49.515625 64.59375 \r\nL 19.828125 64.59375 \r\nL 19.828125 46.734375 \r\nQ 21.96875 47.46875 24.109375 47.828125 \r\nQ 26.265625 48.1875 28.421875 48.1875 \r\nQ 40.625 48.1875 47.75 41.5 \r\nQ 54.890625 34.8125 54.890625 23.390625 \r\nQ 54.890625 11.625 47.5625 5.09375 \r\nQ 40.234375 -1.421875 26.90625 -1.421875 \r\nQ 22.3125 -1.421875 17.546875 -0.640625 \r\nQ 12.796875 0.140625 7.71875 1.703125 \r\nL 7.71875 11.625 \r\nQ 12.109375 9.234375 16.796875 8.0625 \r\nQ 21.484375 6.890625 26.703125 6.890625 \r\nQ 35.15625 6.890625 40.078125 11.328125 \r\nQ 45.015625 15.765625 45.015625 23.390625 \r\nQ 45.015625 31 40.078125 35.4375 \r\nQ 35.15625 39.890625 26.703125 39.890625 \r\nQ 22.75 39.890625 18.8125 39.015625 \r\nQ 14.890625 38.140625 10.796875 36.28125 \r\nz\r\n\" id=\"DejaVuSans-53\"/>\r\n      </defs>\r\n      <g transform=\"translate(145.226847 242.277813)scale(0.14 -0.14)\">\r\n       <use xlink:href=\"#DejaVuSans-48\"/>\r\n       <use x=\"63.623047\" xlink:href=\"#DejaVuSans-46\"/>\r\n       <use x=\"95.410156\" xlink:href=\"#DejaVuSans-48\"/>\r\n       <use x=\"159.033203\" xlink:href=\"#DejaVuSans-53\"/>\r\n      </g>\r\n     </g>\r\n    </g>\r\n    <g id=\"xtick_2\">\r\n     <g id=\"line2d_3\">\r\n      <path clip-path=\"url(#p75001a3c8d)\" d=\"M 247.38733 224.64 \r\nL 247.38733 7.2 \r\n\" style=\"fill:none;stroke:#b0b0b0;stroke-linecap:square;stroke-width:0.8;\"/>\r\n     </g>\r\n     <g id=\"line2d_4\">\r\n      <g>\r\n       <use style=\"stroke:#000000;stroke-width:0.8;\" x=\"247.38733\" xlink:href=\"#m3d8b07c24e\" y=\"224.64\"/>\r\n      </g>\r\n     </g>\r\n     <g id=\"text_2\">\r\n      <!-- 0.10 -->\r\n      <defs>\r\n       <path d=\"M 12.40625 8.296875 \r\nL 28.515625 8.296875 \r\nL 28.515625 63.921875 \r\nL 10.984375 60.40625 \r\nL 10.984375 69.390625 \r\nL 28.421875 72.90625 \r\nL 38.28125 72.90625 \r\nL 38.28125 8.296875 \r\nL 54.390625 8.296875 \r\nL 54.390625 0 \r\nL 12.40625 0 \r\nz\r\n\" id=\"DejaVuSans-49\"/>\r\n      </defs>\r\n      <g transform=\"translate(231.801392 242.277813)scale(0.14 -0.14)\">\r\n       <use xlink:href=\"#DejaVuSans-48\"/>\r\n       <use x=\"63.623047\" xlink:href=\"#DejaVuSans-46\"/>\r\n       <use x=\"95.410156\" xlink:href=\"#DejaVuSans-49\"/>\r\n       <use x=\"159.033203\" xlink:href=\"#DejaVuSans-48\"/>\r\n      </g>\r\n     </g>\r\n    </g>\r\n    <g id=\"xtick_3\">\r\n     <g id=\"line2d_5\">\r\n      <path clip-path=\"url(#p75001a3c8d)\" d=\"M 333.961875 224.64 \r\nL 333.961875 7.2 \r\n\" style=\"fill:none;stroke:#b0b0b0;stroke-linecap:square;stroke-width:0.8;\"/>\r\n     </g>\r\n     <g id=\"line2d_6\">\r\n      <g>\r\n       <use style=\"stroke:#000000;stroke-width:0.8;\" x=\"333.961875\" xlink:href=\"#m3d8b07c24e\" y=\"224.64\"/>\r\n      </g>\r\n     </g>\r\n     <g id=\"text_3\">\r\n      <!-- 0.15 -->\r\n      <g transform=\"translate(318.375938 242.277813)scale(0.14 -0.14)\">\r\n       <use xlink:href=\"#DejaVuSans-48\"/>\r\n       <use x=\"63.623047\" xlink:href=\"#DejaVuSans-46\"/>\r\n       <use x=\"95.410156\" xlink:href=\"#DejaVuSans-49\"/>\r\n       <use x=\"159.033203\" xlink:href=\"#DejaVuSans-53\"/>\r\n      </g>\r\n     </g>\r\n    </g>\r\n    <g id=\"xtick_4\">\r\n     <g id=\"line2d_7\">\r\n      <path clip-path=\"url(#p75001a3c8d)\" d=\"M 420.53642 224.64 \r\nL 420.53642 7.2 \r\n\" style=\"fill:none;stroke:#b0b0b0;stroke-linecap:square;stroke-width:0.8;\"/>\r\n     </g>\r\n     <g id=\"line2d_8\">\r\n      <g>\r\n       <use style=\"stroke:#000000;stroke-width:0.8;\" x=\"420.53642\" xlink:href=\"#m3d8b07c24e\" y=\"224.64\"/>\r\n      </g>\r\n     </g>\r\n     <g id=\"text_4\">\r\n      <!-- 0.20 -->\r\n      <defs>\r\n       <path d=\"M 19.1875 8.296875 \r\nL 53.609375 8.296875 \r\nL 53.609375 0 \r\nL 7.328125 0 \r\nL 7.328125 8.296875 \r\nQ 12.9375 14.109375 22.625 23.890625 \r\nQ 32.328125 33.6875 34.8125 36.53125 \r\nQ 39.546875 41.84375 41.421875 45.53125 \r\nQ 43.3125 49.21875 43.3125 52.78125 \r\nQ 43.3125 58.59375 39.234375 62.25 \r\nQ 35.15625 65.921875 28.609375 65.921875 \r\nQ 23.96875 65.921875 18.8125 64.3125 \r\nQ 13.671875 62.703125 7.8125 59.421875 \r\nL 7.8125 69.390625 \r\nQ 13.765625 71.78125 18.9375 73 \r\nQ 24.125 74.21875 28.421875 74.21875 \r\nQ 39.75 74.21875 46.484375 68.546875 \r\nQ 53.21875 62.890625 53.21875 53.421875 \r\nQ 53.21875 48.921875 51.53125 44.890625 \r\nQ 49.859375 40.875 45.40625 35.40625 \r\nQ 44.1875 33.984375 37.640625 27.21875 \r\nQ 31.109375 20.453125 19.1875 8.296875 \r\nz\r\n\" id=\"DejaVuSans-50\"/>\r\n      </defs>\r\n      <g transform=\"translate(404.950483 242.277813)scale(0.14 -0.14)\">\r\n       <use xlink:href=\"#DejaVuSans-48\"/>\r\n       <use x=\"63.623047\" xlink:href=\"#DejaVuSans-46\"/>\r\n       <use x=\"95.410156\" xlink:href=\"#DejaVuSans-50\"/>\r\n       <use x=\"159.033203\" xlink:href=\"#DejaVuSans-48\"/>\r\n      </g>\r\n     </g>\r\n    </g>\r\n    <g id=\"xtick_5\">\r\n     <g id=\"line2d_9\">\r\n      <path clip-path=\"url(#p75001a3c8d)\" d=\"M 507.110966 224.64 \r\nL 507.110966 7.2 \r\n\" style=\"fill:none;stroke:#b0b0b0;stroke-linecap:square;stroke-width:0.8;\"/>\r\n     </g>\r\n     <g id=\"line2d_10\">\r\n      <g>\r\n       <use style=\"stroke:#000000;stroke-width:0.8;\" x=\"507.110966\" xlink:href=\"#m3d8b07c24e\" y=\"224.64\"/>\r\n      </g>\r\n     </g>\r\n     <g id=\"text_5\">\r\n      <!-- 0.25 -->\r\n      <g transform=\"translate(491.525028 242.277813)scale(0.14 -0.14)\">\r\n       <use xlink:href=\"#DejaVuSans-48\"/>\r\n       <use x=\"63.623047\" xlink:href=\"#DejaVuSans-46\"/>\r\n       <use x=\"95.410156\" xlink:href=\"#DejaVuSans-50\"/>\r\n       <use x=\"159.033203\" xlink:href=\"#DejaVuSans-53\"/>\r\n      </g>\r\n     </g>\r\n    </g>\r\n   </g>\r\n   <g id=\"matplotlib.axis_2\">\r\n    <g id=\"ytick_1\">\r\n     <g id=\"line2d_11\">\r\n      <path clip-path=\"url(#p75001a3c8d)\" d=\"M 81.001875 214.759366 \r\nL 527.401875 214.759366 \r\n\" style=\"fill:none;stroke:#b0b0b0;stroke-linecap:square;stroke-width:0.8;\"/>\r\n     </g>\r\n     <g id=\"line2d_12\">\r\n      <defs>\r\n       <path d=\"M 0 0 \r\nL -3.5 0 \r\n\" id=\"m3644f5cdc5\" style=\"stroke:#000000;stroke-width:0.8;\"/>\r\n      </defs>\r\n      <g>\r\n       <use style=\"stroke:#000000;stroke-width:0.8;\" x=\"81.001875\" xlink:href=\"#m3644f5cdc5\" y=\"214.759366\"/>\r\n      </g>\r\n     </g>\r\n     <g id=\"text_6\">\r\n      <!-- 0.000000 -->\r\n      <g transform=\"translate(7.2 220.078272)scale(0.14 -0.14)\">\r\n       <use xlink:href=\"#DejaVuSans-48\"/>\r\n       <use x=\"63.623047\" xlink:href=\"#DejaVuSans-46\"/>\r\n       <use x=\"95.410156\" xlink:href=\"#DejaVuSans-48\"/>\r\n       <use x=\"159.033203\" xlink:href=\"#DejaVuSans-48\"/>\r\n       <use x=\"222.65625\" xlink:href=\"#DejaVuSans-48\"/>\r\n       <use x=\"286.279297\" xlink:href=\"#DejaVuSans-48\"/>\r\n       <use x=\"349.902344\" xlink:href=\"#DejaVuSans-48\"/>\r\n       <use x=\"413.525391\" xlink:href=\"#DejaVuSans-48\"/>\r\n      </g>\r\n     </g>\r\n    </g>\r\n    <g id=\"ytick_2\">\r\n     <g id=\"line2d_13\">\r\n      <path clip-path=\"url(#p75001a3c8d)\" d=\"M 81.001875 177.328541 \r\nL 527.401875 177.328541 \r\n\" style=\"fill:none;stroke:#b0b0b0;stroke-linecap:square;stroke-width:0.8;\"/>\r\n     </g>\r\n     <g id=\"line2d_14\">\r\n      <g>\r\n       <use style=\"stroke:#000000;stroke-width:0.8;\" x=\"81.001875\" xlink:href=\"#m3644f5cdc5\" y=\"177.328541\"/>\r\n      </g>\r\n     </g>\r\n     <g id=\"text_7\">\r\n      <!-- 0.000001 -->\r\n      <g transform=\"translate(7.2 182.647447)scale(0.14 -0.14)\">\r\n       <use xlink:href=\"#DejaVuSans-48\"/>\r\n       <use x=\"63.623047\" xlink:href=\"#DejaVuSans-46\"/>\r\n       <use x=\"95.410156\" xlink:href=\"#DejaVuSans-48\"/>\r\n       <use x=\"159.033203\" xlink:href=\"#DejaVuSans-48\"/>\r\n       <use x=\"222.65625\" xlink:href=\"#DejaVuSans-48\"/>\r\n       <use x=\"286.279297\" xlink:href=\"#DejaVuSans-48\"/>\r\n       <use x=\"349.902344\" xlink:href=\"#DejaVuSans-48\"/>\r\n       <use x=\"413.525391\" xlink:href=\"#DejaVuSans-49\"/>\r\n      </g>\r\n     </g>\r\n    </g>\r\n    <g id=\"ytick_3\">\r\n     <g id=\"line2d_15\">\r\n      <path clip-path=\"url(#p75001a3c8d)\" d=\"M 81.001875 139.897715 \r\nL 527.401875 139.897715 \r\n\" style=\"fill:none;stroke:#b0b0b0;stroke-linecap:square;stroke-width:0.8;\"/>\r\n     </g>\r\n     <g id=\"line2d_16\">\r\n      <g>\r\n       <use style=\"stroke:#000000;stroke-width:0.8;\" x=\"81.001875\" xlink:href=\"#m3644f5cdc5\" y=\"139.897715\"/>\r\n      </g>\r\n     </g>\r\n     <g id=\"text_8\">\r\n      <!-- 0.000002 -->\r\n      <g transform=\"translate(7.2 145.216621)scale(0.14 -0.14)\">\r\n       <use xlink:href=\"#DejaVuSans-48\"/>\r\n       <use x=\"63.623047\" xlink:href=\"#DejaVuSans-46\"/>\r\n       <use x=\"95.410156\" xlink:href=\"#DejaVuSans-48\"/>\r\n       <use x=\"159.033203\" xlink:href=\"#DejaVuSans-48\"/>\r\n       <use x=\"222.65625\" xlink:href=\"#DejaVuSans-48\"/>\r\n       <use x=\"286.279297\" xlink:href=\"#DejaVuSans-48\"/>\r\n       <use x=\"349.902344\" xlink:href=\"#DejaVuSans-48\"/>\r\n       <use x=\"413.525391\" xlink:href=\"#DejaVuSans-50\"/>\r\n      </g>\r\n     </g>\r\n    </g>\r\n    <g id=\"ytick_4\">\r\n     <g id=\"line2d_17\">\r\n      <path clip-path=\"url(#p75001a3c8d)\" d=\"M 81.001875 102.46689 \r\nL 527.401875 102.46689 \r\n\" style=\"fill:none;stroke:#b0b0b0;stroke-linecap:square;stroke-width:0.8;\"/>\r\n     </g>\r\n     <g id=\"line2d_18\">\r\n      <g>\r\n       <use style=\"stroke:#000000;stroke-width:0.8;\" x=\"81.001875\" xlink:href=\"#m3644f5cdc5\" y=\"102.46689\"/>\r\n      </g>\r\n     </g>\r\n     <g id=\"text_9\">\r\n      <!-- 0.000003 -->\r\n      <defs>\r\n       <path d=\"M 40.578125 39.3125 \r\nQ 47.65625 37.796875 51.625 33 \r\nQ 55.609375 28.21875 55.609375 21.1875 \r\nQ 55.609375 10.40625 48.1875 4.484375 \r\nQ 40.765625 -1.421875 27.09375 -1.421875 \r\nQ 22.515625 -1.421875 17.65625 -0.515625 \r\nQ 12.796875 0.390625 7.625 2.203125 \r\nL 7.625 11.71875 \r\nQ 11.71875 9.328125 16.59375 8.109375 \r\nQ 21.484375 6.890625 26.8125 6.890625 \r\nQ 36.078125 6.890625 40.9375 10.546875 \r\nQ 45.796875 14.203125 45.796875 21.1875 \r\nQ 45.796875 27.640625 41.28125 31.265625 \r\nQ 36.765625 34.90625 28.71875 34.90625 \r\nL 20.21875 34.90625 \r\nL 20.21875 43.015625 \r\nL 29.109375 43.015625 \r\nQ 36.375 43.015625 40.234375 45.921875 \r\nQ 44.09375 48.828125 44.09375 54.296875 \r\nQ 44.09375 59.90625 40.109375 62.90625 \r\nQ 36.140625 65.921875 28.71875 65.921875 \r\nQ 24.65625 65.921875 20.015625 65.03125 \r\nQ 15.375 64.15625 9.8125 62.3125 \r\nL 9.8125 71.09375 \r\nQ 15.4375 72.65625 20.34375 73.4375 \r\nQ 25.25 74.21875 29.59375 74.21875 \r\nQ 40.828125 74.21875 47.359375 69.109375 \r\nQ 53.90625 64.015625 53.90625 55.328125 \r\nQ 53.90625 49.265625 50.4375 45.09375 \r\nQ 46.96875 40.921875 40.578125 39.3125 \r\nz\r\n\" id=\"DejaVuSans-51\"/>\r\n      </defs>\r\n      <g transform=\"translate(7.2 107.785796)scale(0.14 -0.14)\">\r\n       <use xlink:href=\"#DejaVuSans-48\"/>\r\n       <use x=\"63.623047\" xlink:href=\"#DejaVuSans-46\"/>\r\n       <use x=\"95.410156\" xlink:href=\"#DejaVuSans-48\"/>\r\n       <use x=\"159.033203\" xlink:href=\"#DejaVuSans-48\"/>\r\n       <use x=\"222.65625\" xlink:href=\"#DejaVuSans-48\"/>\r\n       <use x=\"286.279297\" xlink:href=\"#DejaVuSans-48\"/>\r\n       <use x=\"349.902344\" xlink:href=\"#DejaVuSans-48\"/>\r\n       <use x=\"413.525391\" xlink:href=\"#DejaVuSans-51\"/>\r\n      </g>\r\n     </g>\r\n    </g>\r\n    <g id=\"ytick_5\">\r\n     <g id=\"line2d_19\">\r\n      <path clip-path=\"url(#p75001a3c8d)\" d=\"M 81.001875 65.036064 \r\nL 527.401875 65.036064 \r\n\" style=\"fill:none;stroke:#b0b0b0;stroke-linecap:square;stroke-width:0.8;\"/>\r\n     </g>\r\n     <g id=\"line2d_20\">\r\n      <g>\r\n       <use style=\"stroke:#000000;stroke-width:0.8;\" x=\"81.001875\" xlink:href=\"#m3644f5cdc5\" y=\"65.036064\"/>\r\n      </g>\r\n     </g>\r\n     <g id=\"text_10\">\r\n      <!-- 0.000004 -->\r\n      <defs>\r\n       <path d=\"M 37.796875 64.3125 \r\nL 12.890625 25.390625 \r\nL 37.796875 25.390625 \r\nz\r\nM 35.203125 72.90625 \r\nL 47.609375 72.90625 \r\nL 47.609375 25.390625 \r\nL 58.015625 25.390625 \r\nL 58.015625 17.1875 \r\nL 47.609375 17.1875 \r\nL 47.609375 0 \r\nL 37.796875 0 \r\nL 37.796875 17.1875 \r\nL 4.890625 17.1875 \r\nL 4.890625 26.703125 \r\nz\r\n\" id=\"DejaVuSans-52\"/>\r\n      </defs>\r\n      <g transform=\"translate(7.2 70.35497)scale(0.14 -0.14)\">\r\n       <use xlink:href=\"#DejaVuSans-48\"/>\r\n       <use x=\"63.623047\" xlink:href=\"#DejaVuSans-46\"/>\r\n       <use x=\"95.410156\" xlink:href=\"#DejaVuSans-48\"/>\r\n       <use x=\"159.033203\" xlink:href=\"#DejaVuSans-48\"/>\r\n       <use x=\"222.65625\" xlink:href=\"#DejaVuSans-48\"/>\r\n       <use x=\"286.279297\" xlink:href=\"#DejaVuSans-48\"/>\r\n       <use x=\"349.902344\" xlink:href=\"#DejaVuSans-48\"/>\r\n       <use x=\"413.525391\" xlink:href=\"#DejaVuSans-52\"/>\r\n      </g>\r\n     </g>\r\n    </g>\r\n    <g id=\"ytick_6\">\r\n     <g id=\"line2d_21\">\r\n      <path clip-path=\"url(#p75001a3c8d)\" d=\"M 81.001875 27.605239 \r\nL 527.401875 27.605239 \r\n\" style=\"fill:none;stroke:#b0b0b0;stroke-linecap:square;stroke-width:0.8;\"/>\r\n     </g>\r\n     <g id=\"line2d_22\">\r\n      <g>\r\n       <use style=\"stroke:#000000;stroke-width:0.8;\" x=\"81.001875\" xlink:href=\"#m3644f5cdc5\" y=\"27.605239\"/>\r\n      </g>\r\n     </g>\r\n     <g id=\"text_11\">\r\n      <!-- 0.000005 -->\r\n      <g transform=\"translate(7.2 32.924145)scale(0.14 -0.14)\">\r\n       <use xlink:href=\"#DejaVuSans-48\"/>\r\n       <use x=\"63.623047\" xlink:href=\"#DejaVuSans-46\"/>\r\n       <use x=\"95.410156\" xlink:href=\"#DejaVuSans-48\"/>\r\n       <use x=\"159.033203\" xlink:href=\"#DejaVuSans-48\"/>\r\n       <use x=\"222.65625\" xlink:href=\"#DejaVuSans-48\"/>\r\n       <use x=\"286.279297\" xlink:href=\"#DejaVuSans-48\"/>\r\n       <use x=\"349.902344\" xlink:href=\"#DejaVuSans-48\"/>\r\n       <use x=\"413.525391\" xlink:href=\"#DejaVuSans-53\"/>\r\n      </g>\r\n     </g>\r\n    </g>\r\n   </g>\r\n   <g id=\"line2d_23\">\r\n    <defs>\r\n     <path d=\"M 0 4 \r\nC 1.060812 4 2.078319 3.578535 2.828427 2.828427 \r\nC 3.578535 2.078319 4 1.060812 4 0 \r\nC 4 -1.060812 3.578535 -2.078319 2.828427 -2.828427 \r\nC 2.078319 -3.578535 1.060812 -4 0 -4 \r\nC -1.060812 -4 -2.078319 -3.578535 -2.828427 -2.828427 \r\nC -3.578535 -2.078319 -4 -1.060812 -4 0 \r\nC -4 1.060812 -3.578535 2.078319 -2.828427 2.828427 \r\nC -2.078319 3.578535 -1.060812 4 0 4 \r\nz\r\n\" id=\"mc45e7d926a\" style=\"stroke:#1f77b4;\"/>\r\n    </defs>\r\n    <g clip-path=\"url(#p75001a3c8d)\">\r\n     <use style=\"fill:#1f77b4;stroke:#1f77b4;\" x=\"507.110966\" xlink:href=\"#mc45e7d926a\" y=\"17.083636\"/>\r\n    </g>\r\n   </g>\r\n   <g id=\"line2d_24\">\r\n    <defs>\r\n     <path d=\"M 0 4 \r\nC 1.060812 4 2.078319 3.578535 2.828427 2.828427 \r\nC 3.578535 2.078319 4 1.060812 4 0 \r\nC 4 -1.060812 3.578535 -2.078319 2.828427 -2.828427 \r\nC 2.078319 -3.578535 1.060812 -4 0 -4 \r\nC -1.060812 -4 -2.078319 -3.578535 -2.828427 -2.828427 \r\nC -3.578535 -2.078319 -4 -1.060812 -4 0 \r\nC -4 1.060812 -3.578535 2.078319 -2.828427 2.828427 \r\nC -2.078319 3.578535 -1.060812 4 0 4 \r\nz\r\n\" id=\"m24c94dafde\" style=\"stroke:#ff7f0e;\"/>\r\n    </defs>\r\n    <g clip-path=\"url(#p75001a3c8d)\">\r\n     <use style=\"fill:#ff7f0e;stroke:#ff7f0e;\" x=\"290.674602\" xlink:href=\"#m24c94dafde\" y=\"202.447181\"/>\r\n    </g>\r\n   </g>\r\n   <g id=\"line2d_25\">\r\n    <defs>\r\n     <path d=\"M 0 4 \r\nC 1.060812 4 2.078319 3.578535 2.828427 2.828427 \r\nC 3.578535 2.078319 4 1.060812 4 0 \r\nC 4 -1.060812 3.578535 -2.078319 2.828427 -2.828427 \r\nC 2.078319 -3.578535 1.060812 -4 0 -4 \r\nC -1.060812 -4 -2.078319 -3.578535 -2.828427 -2.828427 \r\nC -3.578535 -2.078319 -4 -1.060812 -4 0 \r\nC -4 1.060812 -3.578535 2.078319 -2.828427 2.828427 \r\nC -2.078319 3.578535 -1.060812 4 0 4 \r\nz\r\n\" id=\"m108849c5de\" style=\"stroke:#2ca02c;\"/>\r\n    </defs>\r\n    <g clip-path=\"url(#p75001a3c8d)\">\r\n     <use style=\"fill:#2ca02c;stroke:#2ca02c;\" x=\"182.45642\" xlink:href=\"#m108849c5de\" y=\"213.990517\"/>\r\n    </g>\r\n   </g>\r\n   <g id=\"line2d_26\">\r\n    <defs>\r\n     <path d=\"M 0 4 \r\nC 1.060812 4 2.078319 3.578535 2.828427 2.828427 \r\nC 3.578535 2.078319 4 1.060812 4 0 \r\nC 4 -1.060812 3.578535 -2.078319 2.828427 -2.828427 \r\nC 2.078319 -3.578535 1.060812 -4 0 -4 \r\nC -1.060812 -4 -2.078319 -3.578535 -2.828427 -2.828427 \r\nC -3.578535 -2.078319 -4 -1.060812 -4 0 \r\nC -4 1.060812 -3.578535 2.078319 -2.828427 2.828427 \r\nC -2.078319 3.578535 -1.060812 4 0 4 \r\nz\r\n\" id=\"m2f8da70e61\" style=\"stroke:#d62728;\"/>\r\n    </defs>\r\n    <g clip-path=\"url(#p75001a3c8d)\">\r\n     <use style=\"fill:#d62728;stroke:#d62728;\" x=\"128.34733\" xlink:href=\"#m2f8da70e61\" y=\"214.711323\"/>\r\n    </g>\r\n   </g>\r\n   <g id=\"line2d_27\">\r\n    <defs>\r\n     <path d=\"M 0 4 \r\nC 1.060812 4 2.078319 3.578535 2.828427 2.828427 \r\nC 3.578535 2.078319 4 1.060812 4 0 \r\nC 4 -1.060812 3.578535 -2.078319 2.828427 -2.828427 \r\nC 2.078319 -3.578535 1.060812 -4 0 -4 \r\nC -1.060812 -4 -2.078319 -3.578535 -2.828427 -2.828427 \r\nC -3.578535 -2.078319 -4 -1.060812 -4 0 \r\nC -4 1.060812 -3.578535 2.078319 -2.828427 2.828427 \r\nC -2.078319 3.578535 -1.060812 4 0 4 \r\nz\r\n\" id=\"m4f97f8cd2d\" style=\"stroke:#9467bd;\"/>\r\n    </defs>\r\n    <g clip-path=\"url(#p75001a3c8d)\">\r\n     <use style=\"fill:#9467bd;stroke:#9467bd;\" x=\"101.292784\" xlink:href=\"#m4f97f8cd2d\" y=\"214.756364\"/>\r\n    </g>\r\n   </g>\r\n   <g id=\"patch_3\">\r\n    <path d=\"M 81.001875 224.64 \r\nL 81.001875 7.2 \r\n\" style=\"fill:none;stroke:#000000;stroke-linecap:square;stroke-linejoin:miter;stroke-width:0.8;\"/>\r\n   </g>\r\n   <g id=\"patch_4\">\r\n    <path d=\"M 527.401875 224.64 \r\nL 527.401875 7.2 \r\n\" style=\"fill:none;stroke:#000000;stroke-linecap:square;stroke-linejoin:miter;stroke-width:0.8;\"/>\r\n   </g>\r\n   <g id=\"patch_5\">\r\n    <path d=\"M 81.001875 224.64 \r\nL 527.401875 224.64 \r\n\" style=\"fill:none;stroke:#000000;stroke-linecap:square;stroke-linejoin:miter;stroke-width:0.8;\"/>\r\n   </g>\r\n   <g id=\"patch_6\">\r\n    <path d=\"M 81.001875 7.2 \r\nL 527.401875 7.2 \r\n\" style=\"fill:none;stroke:#000000;stroke-linecap:square;stroke-linejoin:miter;stroke-width:0.8;\"/>\r\n   </g>\r\n  </g>\r\n </g>\r\n <defs>\r\n  <clipPath id=\"p75001a3c8d\">\r\n   <rect height=\"217.44\" width=\"446.4\" x=\"81.001875\" y=\"7.2\"/>\r\n  </clipPath>\r\n </defs>\r\n</svg>\r\n",
      "image/png": "[encoded data removed]"
     },
     "metadata": {
      "needs_background": "light"
     }
    }
   ],
   "source": [
    "def composite_simpsons_rule(f, m, h, a, b):\n",
    "    result = 0\n",
    "    step = (b-a)/m\n",
    "    x0 = a\n",
    "    x1 = a+step\n",
    "    for i in range(m):\n",
    "        result += h/6 * (f(x0) + 4 * f((x0+x1)/2) + f(x1))\n",
    "        x0 = x1\n",
    "        x1 = x1 + step\n",
    "    return result\n",
    "h1 =2**-2\n",
    "h2 =2**-3\n",
    "h3 =2**-4\n",
    "h4 =2**-5\n",
    "h5 =2**-6\n",
    "Q1 = composite_simpsons_rule(lambda x: np.cos(np.pi/2 * x), 4, 2**-2, 0, 1)\n",
    "Q2 = composite_simpsons_rule(lambda x: np.cos(np.pi/2 * x), 8, 2**-3, 0, 1)\n",
    "Q3 = composite_simpsons_rule(lambda x: np.cos(np.pi/2 * x), 16, 2**-4, 0, 1)\n",
    "Q4 = composite_simpsons_rule(lambda x: np.cos(np.pi/2 * x), 32, 2**-5, 0, 1)\n",
    "Q5 = composite_simpsons_rule(lambda x: np.cos(np.pi/2 * x), 64, 2**-6, 0, 1)\n",
    "I = 2/np.pi\n",
    "\n",
    "plot(h1, np.abs(I - Q1), 'o')\n",
    "plot(h2, np.abs(I - Q2), 'o')\n",
    "plot(h3, np.abs(I - Q3), 'o')\n",
    "plot(h4, np.abs(I - Q4), 'o')\n",
    "plot(h5, np.abs(I - Q5), 'o')\n",
    "#Unsure if this is what you wanted me to do....\n",
    "# Anyways, we see that "
   ]
  },
  {
   "cell_type": "markdown",
   "metadata": {},
   "source": [
    "Doubling the number of sub-intervals decreases the error by a factor of 16. This suggests that the error of the composite Simpson rule is $Cm^{-4} = Ch^4$."
   ]
  },
  {
   "source": [
    "**c)**\n",
    "Recall that the error of Simpson's rule on a single interval is given by\n",
    "\n",
    "$$\n",
    "|I[f](a,b) - S[f](a,b)| = - \\frac{(b-a)^5}{2880}  f^{(4)}(\\xi)\n",
    "$$\n",
    "for some $\\xi \\in [a,b]$.\n",
    "\n",
    "Use this to show that the error of the composite Simpson rule can be bounded by\n",
    "\n",
    "\\begin{equation}\n",
    "|I[f]-\\mathrm{CSR}[f]|\n",
    "\\leqslant\n",
    "\\dfrac{M_4}{2880} \\dfrac{(b-a)^5}{m^4}\n",
    "=\n",
    "\\dfrac{M_4}{2880}\n",
    "h^4(b-a)\n",
    "\\label{quad:thm:csr_est} \\tag{3}\n",
    "\\end{equation}\n",
    "\n",
    "where  $M_4 = \\max_{\\xi\\in[a,b]} |f^{(4)}(\\xi)|$."
   ],
   "cell_type": "markdown",
   "metadata": {}
  },
  {
   "cell_type": "markdown",
   "metadata": {},
   "source": [
    "## 2) Gaussian Quadrature\n",
    "\n",
    "In this exercise we will construct a Gaussian quadrature rule with 3 nodes. We will take it step by step, so don't worry if you do not feel like an expert on Gaussian quadrature. \n",
    "\n",
    "To make your life easy, we will use the [sympy](https://docs.sympy.org/latest/index.html#) python module  for symbolic mathematics to perform tasks such as (symbolic) integration and root finding of low order polynoms. \n",
    "In particular look at [integrate](https://docs.sympy.org/latest/modules/integrals/integrals.html) and [solve](https://docs.sympy.org/latest/modules/solvers/solvers.html) submodules."
   ]
  },
  {
   "cell_type": "markdown",
   "metadata": {},
   "source": [
    "\n",
    "\n",
    "The first step in constructing a Gaussian quadrature is finding the correct orthogonal polynomial. The nodes of the quadrature rule will be the roots of some polynomial. Since we are looking for 3 nodes, this means that the polynomial should have 3 roots, and hence we are looking for a third-order polynomial.\n",
    " \n",
    "The polynomial, call it $p_3$, should be orthogonal on the interval $[0,3]$ to all polynomials of order 2 or less. We now create this polynomial.\n",
    "\n",
    "Start with the 4 polynomial \"basis\" functions \n",
    "$$\n",
    "\\phi_0 = 1,\\quad \\phi_1 = x,\\quad \\phi_2 = x^2,\\quad \\phi_3 = x^3.\n",
    "$$\n",
    "Remember that on the interval $[0,3]$ we have the *inner product*\n",
    "$$\n",
    "(p,q) = \\int_{0}^3p(x)\\,q(x)\\,\\mathrm{d}x\n",
    "$$\n",
    "and the *norm*\n",
    "$$\n",
    "\\|p\\| = \\left(\\int_{0}^3 p(x)^2 \\, \\mathrm{d}x\\right)^{1/2}.\n",
    "$$\n",
    "\n",
    "We can now construct orthogonal polynomials by using Gram-Schmidt orthogonalization.\n",
    "\n",
    "\\begin{align*}\n",
    "p_k = \\phi_k - \\sum_{j=0}^{k-1}\\frac{(\\phi_k,p_j)}{\\|p_j\\|^2}\\, p_j\n",
    "\\end{align*}\n",
    "\n",
    "We start out by setting $p_0 = 1$. In order to calculate $p_1$ we first need to calculate\n",
    "$$\n",
    "(\\phi_1,p_0) = \\int_{0}^3\\phi_1(x)\\,p_0(x)\\, \\mathrm{d}x = \\int_{0}^3 x \\cdot 1 \\, \\mathrm{d}x = \\left[\\frac{x^2}{2}\\right]^3_{0} = \\frac{9}{2}.\n",
    "$$\n",
    "We also need to calculate\n",
    "$$\n",
    "\\|p_0\\|^2 = \\int_{0}^3p_0(x)^2 \\, \\mathrm{d}x = \\int_{0}^3 1\\cdot 1 \\mathrm{d}x = 3.\n",
    "$$\n",
    "Therefore, \n",
    "$$\n",
    "p_1 = \\phi_1 - \\frac{(\\phi_1,p_0)}{\\|p_0\\|^2}\\,p_0 = \\phi_1 - \\frac{9/2}{3}\\cdot p_0 = \\phi_1 - \\frac{3}{2}p_0 = x-\\frac{3}{2}.\n",
    "$$\n",
    "\n",
    "**a)**\n",
    "\n",
    "Use Gram-Schmidt orthogonalization to construct $p_2$ and $p_3$."
   ]
  },
  {
   "cell_type": "markdown",
   "metadata": {},
   "source": [
    "We can use the Python package SymPy to check our calculations. The code below helps you by defining the inner product and shows how to define polynomials."
   ]
  },
  {
   "cell_type": "code",
   "execution_count": 3,
   "metadata": {},
   "outputs": [
    {
     "name": "stdout",
     "output_type": "stream",
     "text": [
      "9/2\n"
     ]
    }
   ],
   "source": [
    "from sympy.abc import x\n",
    "from sympy import integrate\n",
    "\n",
    "a=0\n",
    "b=3\n",
    "\n",
    "#Define the inner poduct\n",
    "def scp(p,q):\n",
    "    return integrate(p*q, (x, a, b))\n",
    "\n",
    "#Define polynomials\n",
    "p0 = 1\n",
    "p1 = x\n",
    "\n",
    "#Calculate the inner product and print it.\n",
    "print(scp(p0,p1))"
   ]
  },
  {
   "cell_type": "markdown",
   "metadata": {},
   "source": [
    "**b)**\n",
    "Use the function $\\texttt{scp}$ to check whether the polynomials you calculated\n",
    "are in fact **orthogonal**."
   ]
  },
  {
   "cell_type": "markdown",
   "metadata": {},
   "source": [
    "**c)**\n",
    "Find the 3 roots of $p_3$.\n",
    "\n",
    "*Hints:*\n",
    "\n",
    " - Analytical approach: If you want to do it analytical, use the fact that one root is $$x=\\frac{3}{2}$$\n",
    "to find a second order polynomial $\\widetilde{p}_2$ such that  $\\widetilde{p}_2(x) \\cdot (x-3/2) = p_3(x)$.\n",
    " - Computational approach: \n",
    "If you want to use a computational algebra system/symbolic calculator\n",
    "you Import the `solve` from `sympy` (Have a look at the\n",
    "[solve](https://docs.sympy.org/latest/modules/solvers/solvers.html) submodules.)"
   ]
  },
  {
   "cell_type": "markdown",
   "metadata": {},
   "source": [
    "**d)**\n",
    "\n",
    "Let's denote the three roots of $p_3$ by $x_1,x_2,x_3.$\n",
    "\n",
    "Construct the three Lagrange polynomials $L_1, \\, L_2,\\,  L_3$ satisfying $L_i(x_j) = \\delta_{ij},$ that is\n",
    "\n",
    "$$\n",
    "L_i(x_j) = \n",
    "\\begin{cases}\n",
    "1,\\quad i=j,\\\\\n",
    "0,\\quad i\\neq j.\n",
    "\\end{cases}\n",
    "$$\n",
    "\n",
    "Then calculate the weights \n",
    "$$\n",
    "w_i = \\int_{0}^3L_i(x)\\, \\mathrm{d}x.\n",
    "$$\n",
    "\n",
    "*Hint: You can use the SymPy function $\\texttt{integrate}$ to check your calculations.*"
   ]
  },
  {
   "cell_type": "markdown",
   "metadata": {},
   "source": [
    "**e)** \n",
    "\n",
    "Now recheck your calculations as follows.\n",
    "The Gauss-Legendre rule for the interval $[-1,1]$ with $3$ quadrature points is given by\n",
    "\\begin{align*}\n",
    "\\{\\hat{x}_i\\}_{i=0}^2 &= \\left\\{-\\sqrt{\\tfrac{3}{5}}, 0, \\sqrt{\\tfrac{3}{5}} \\right\\}\n",
    "\\\\\n",
    "\\{\\hat{w}_i\\}_{i=0}^2 &= \\left\\{ \\tfrac{5}{9}, \\tfrac{8}{9}, \\tfrac{5}{9} \\right\\}\n",
    "\\end{align*}\n",
    "Now transfer this quadrature rule to the interval $[0,3]$ and confirm that you get the same quadrature points and weights you computed in 2a)-2d)."
   ]
  },
  {
   "cell_type": "markdown",
   "metadata": {},
   "source": [
    "**f)**\n",
    "\n",
    "Finally, write down the quadrature rule on the form\n",
    "\n",
    "$$\n",
    "\\mathrm{GQR}[f](0,3) = \\sum_{j=1}^nw_jf(x_j).\n",
    "$$\n",
    "\n",
    "and check that this Gaussian quadrature rule has degree of exactness equal to $5$.\n",
    "\n",
    "*Hint: Use the `QR` function from the `SimpleQuadrature.ipynb` notebook.*"
   ]
  }
 ],
 "metadata": {
  "kernelspec": {
   "display_name": "Python 3",
   "language": "python",
   "name": "python3"
  },
  "language_info": {
   "codemirror_mode": {
    "name": "ipython",
    "version": 3
   },
   "file_extension": ".py",
   "mimetype": "text/x-python",
   "name": "python",
   "nbconvert_exporter": "python",
   "pygments_lexer": "ipython3",
   "version": "3.7.4-final"
  }
 },
 "nbformat": 4,
 "nbformat_minor": 4
}